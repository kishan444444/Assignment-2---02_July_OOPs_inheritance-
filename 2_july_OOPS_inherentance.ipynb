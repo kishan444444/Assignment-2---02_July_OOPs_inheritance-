{
 "cells": [
  {
   "cell_type": "code",
   "execution_count": null,
   "id": "bda30ed6-0189-4bc7-b278-357a7c1e9219",
   "metadata": {},
   "outputs": [],
   "source": [
    "#1  Explain what inheritance is in object-oriented programming and why it is used.\n",
    "\n",
    "\"\"\"\n",
    "Inheritance is one of the core features of object-oriented\n",
    "programming. It's a programming procedure that allows you to reuse \n",
    "code by referencing the behaviors and data of an object. In other words, \n",
    "a class that inherits from another class shares all the attributes and methods \n",
    "of the referenced class.\n",
    "\n",
    "\"\"\""
   ]
  },
  {
   "cell_type": "code",
   "execution_count": null,
   "id": "4060b56a-7e3a-4114-8fb9-987b21e81c53",
   "metadata": {},
   "outputs": [],
   "source": [
    "#2 Discuss the concept of single inheritance and multiple inheritance, highlighting their differences and advantages.\n",
    "\"\"\" \n",
    "In single inheretance a class can only inherit from one superclass \n",
    "it follow the strict rule in which sub class is related to superclass \n",
    "by in relation,\n",
    "1.\tSingle inheritance is one in which the derived class inherits the \n",
    "    single base class.\n",
    "\n",
    "2.\tIn single inheritance, the derived class uses the features of the \n",
    "    single base class.\n",
    "\n",
    "3.\tSingle inheritance requires a small run time as compared to \n",
    "    multiple inheritance due to less overhead.\n",
    "\n",
    "4.\tSingle inheritance is a lot close to specialization.\n",
    "\n",
    "5.\tSingle inheritance is simple in comparison to multiple inheritance.\n",
    "\n",
    "6.\tSingle inheritance can be implemented in any programming language\n",
    "\n",
    "\n",
    "Whereas \n",
    "\n",
    "In multi inheretance subclass class can be inherit from multi superclass\n",
    "in which sub class can inherit from many superclass.\n",
    "\n",
    "1 multiple inheritance is one in which the derived \n",
    "  class acquires two or more base classes.\n",
    "\n",
    "2 While in multiple inheritance, the derived class uses the joint \n",
    "  features of the inherited base classes.\n",
    "\n",
    "3 While multiple inheritance requires more run time as compared to\n",
    "  single inheritance due to more overhead.\n",
    "4 In contrast, multiple inheritance is a lot close to generalization.\n",
    "\n",
    "5 While multiple inheritance is complex in comparison to single inheritance.\n",
    "\n",
    "6 C++ supports multiple inheritance but multiple inheritance can’t be implemented in\n",
    "  any programming language\n",
    "\n",
    "\n"
   ]
  },
  {
   "cell_type": "code",
   "execution_count": null,
   "id": "18142175-0565-499b-aa0a-39b758cbed2e",
   "metadata": {},
   "outputs": [],
   "source": [
    "#3 Explain the terms \"base class\" and \"derived class\" in the context of inheritance\n",
    "\n",
    "\"\"\"\n",
    "Base Class: A base class is a class in Object-Oriented Programming language,\n",
    "from which other classes are derived. The class which inherits the base class has \n",
    "all members of a base class as well as can also have some additional properties. \n",
    "The Base class members and member functions are inherited to Object of the derived \n",
    "class. A base class is also called parent class or superclass.\n",
    "\n",
    "Derived Class: A class that is created from an existing class. \n",
    "The derived class inherits all members and member functions of a base class.\n",
    "The derived class can have more functionality with respect to the Base class\n",
    "and can easily access the Base class. A Derived class is also called a child class \n",
    "or subclass.\n",
    "\n",
    "\"\"\""
   ]
  },
  {
   "cell_type": "code",
   "execution_count": null,
   "id": "00e138d6-7313-477c-8622-e36fe4e99ec2",
   "metadata": {},
   "outputs": [],
   "source": [
    "#4 What is the significance of the \"protected\" access modifier in inheritance? How doesit differ from \"private\" and \"public\" modifiers\n",
    "\n",
    "\"\"\"\n",
    "The protected access modifier uses the inheritance level \n",
    "of the entity to set its accessibility to the outside world. \n",
    "This means that we can use the protected access modifier for an \n",
    "entity that we want to be visible in all the classes \n",
    "inheriting its defining class.\n",
    "\n",
    "The terms \"public,\" \"protected,\" and \"private\" provide varied\n",
    "degrees of visibility and encapsulation. \"public\" makes a member \n",
    "accessible from any class, \"protected\" permits access inside the same package \n",
    "and by subclasses, and \"private\" restricts access\n",
    "to only within the declaring class.\n",
    "\n",
    "\"\"\"\n",
    "\n",
    "\n",
    "\n"
   ]
  },
  {
   "cell_type": "code",
   "execution_count": null,
   "id": "34641b55-6878-42c4-b9bf-dae43cc98428",
   "metadata": {},
   "outputs": [],
   "source": [
    "#5 What is the purpose of the \"super\" keyword in inheritance? Provide an example\n",
    "\"\"\"\n",
    "The super keyword in Java is a reference variable which is used to refer immediate parent class object.\n",
    "Whenever you create the instance of subclass, an instance of parent class is created implicitly which is referred by super reference variable.\n",
    "Usage of Java super Keyword\n",
    "super can be used to refer immediate parent class instance variable.\n",
    "super can be used to invoke immediate parent class method.\n",
    "super() can be used to invoke immediate parent class constructor.\n",
    "Example\n",
    "\n",
    "class vehical:\n",
    "    def __init__(self,make,model,year):\n",
    "        self.make=make\n",
    "        self.model=model\n",
    "        self.year=year\n",
    "    \n",
    "class car(vehical):\n",
    "    def __init__(self,make,model,year):\n",
    "        super().__init__(make,model,year)\n",
    "    \n",
    "\"\"\"\n",
    "\n"
   ]
  },
  {
   "cell_type": "code",
   "execution_count": null,
   "id": "e1c3de34-3fb6-4b4e-b47c-2b47ed239ada",
   "metadata": {
    "tags": []
   },
   "outputs": [],
   "source": [
    "#6 vehical class inherantance\n",
    "\n",
    "class vehical:\n",
    "    def __init__(self,make,model,year):\n",
    "        self.make=make\n",
    "        self.model=model\n",
    "        self.year=year\n",
    "    def fuel_type(self):\n",
    "        pass"
   ]
  },
  {
   "cell_type": "code",
   "execution_count": null,
   "id": "593b97c6-836d-46bd-9713-e3af9639ea74",
   "metadata": {
    "tags": []
   },
   "outputs": [],
   "source": [
    "class Car(vehical):\n",
    "    def __init__(self,make,model,year):\n",
    "        super().__init__(make,model,year)\n",
    "        \n",
    "    def fuel_type(self,fuel_type):\n",
    "        print(f'The car model {self.model} and year {self.year} has fuel type {fuel_type}')"
   ]
  },
  {
   "cell_type": "code",
   "execution_count": null,
   "id": "3c6e65e1-4cbb-45d0-a42d-fbdcbb0c8024",
   "metadata": {
    "tags": []
   },
   "outputs": [],
   "source": [
    "vehical=Car(\"hyundai\",\"VXI\",\"2023\")"
   ]
  },
  {
   "cell_type": "code",
   "execution_count": null,
   "id": "d0b947ea-1585-46bd-9dfe-6d3508f8bbda",
   "metadata": {
    "tags": []
   },
   "outputs": [],
   "source": [
    "vehical.fuel_type(\"petrol\")"
   ]
  },
  {
   "cell_type": "code",
   "execution_count": null,
   "id": "622615cc-f792-4990-8a92-83f6254434d9",
   "metadata": {
    "tags": []
   },
   "outputs": [],
   "source": [
    "#7 Employee inherantance class\n",
    "class Employee:\n",
    "    def __init__(self,name,salary):\n",
    "        self.name=name\n",
    "        self.salary=salary\n",
    "        \n",
    "    def display(self):\n",
    "        print(f'The name of employee is {self.name} and salary is {self.salary}')\n",
    "        \n",
    "        "
   ]
  },
  {
   "cell_type": "code",
   "execution_count": null,
   "id": "2d002cd9-c8c4-4ccd-bf21-aad264dc9301",
   "metadata": {
    "tags": []
   },
   "outputs": [],
   "source": [
    "class manager(Employee):\n",
    "    def __init__(self,name,salary,department):\n",
    "        super().__init__(name,salary)\n",
    "        self.department=department\n",
    "    def display(self):\n",
    "        super().display()\n",
    "        print(f'The department of manager is {self.department}')\n",
    "        \n",
    "        \n"
   ]
  },
  {
   "cell_type": "code",
   "execution_count": null,
   "id": "5a3ae89c-b91e-4350-a30c-b698dc7d3366",
   "metadata": {
    "tags": []
   },
   "outputs": [],
   "source": [
    "class Engineer(Employee):\n",
    "    def __init__(self,name,salary,programming_language):\n",
    "        super().__init__(name,salary)\n",
    "        self.programming_language=programming_language\n",
    "    def display(self):\n",
    "        super().display()\n",
    "        print(f'The department of Engineer is {self.programming_language}')"
   ]
  },
  {
   "cell_type": "code",
   "execution_count": null,
   "id": "fbdf3aad-d1ad-4f5a-86a7-f4f798d1a1dc",
   "metadata": {
    "tags": []
   },
   "outputs": [],
   "source": [
    "manager=manager(\"krish\",50000,\"account\")"
   ]
  },
  {
   "cell_type": "code",
   "execution_count": null,
   "id": "bf5ebcb0-1390-404e-8640-e5e25ea43527",
   "metadata": {
    "tags": []
   },
   "outputs": [],
   "source": [
    "manager.display()"
   ]
  },
  {
   "cell_type": "code",
   "execution_count": null,
   "id": "4fd4cb3a-2242-4dfa-8b4e-76ec990c7e03",
   "metadata": {
    "tags": []
   },
   "outputs": [],
   "source": [
    "Engineer=Engineer(\"nair\",80000,\"python\")"
   ]
  },
  {
   "cell_type": "code",
   "execution_count": null,
   "id": "824f0c98-e9b1-4367-9c43-6bbca9b88b7f",
   "metadata": {
    "tags": []
   },
   "outputs": [],
   "source": [
    "Engineer.display()"
   ]
  },
  {
   "cell_type": "code",
   "execution_count": null,
   "id": "a77a8095-7bfb-4b19-9f3a-5dbced9a99a6",
   "metadata": {
    "tags": []
   },
   "outputs": [],
   "source": [
    "#8 Shape class inherantance\n",
    "class shape:\n",
    "    def __init__(self,colour,border_widh):\n",
    "        self.colour=colour\n",
    "        self.border_widh=border_widh\n",
    "    def display(self):\n",
    "        pass\n"
   ]
  },
  {
   "cell_type": "code",
   "execution_count": null,
   "id": "75415b03-805c-40b1-a6c6-629151bd5c0b",
   "metadata": {
    "tags": []
   },
   "outputs": [],
   "source": [
    "class Rectangle(shape):\n",
    "    def __init__(self,colour,border_widh,length,widh):\n",
    "        super().__init__(colour,border_widh)\n",
    "        self.length=length\n",
    "        self.widh=widh\n",
    "        \n",
    "        \n",
    "    def display(self):\n",
    "        print(f'The colour , border_widh , length , widh of rectange is {self.colour} , {self.border_widh} , {self.length} , {self.widh}')\n",
    "        \n",
    "        \n",
    "    "
   ]
  },
  {
   "cell_type": "code",
   "execution_count": null,
   "id": "f440e716-2a95-49eb-965f-74a7c2e84d20",
   "metadata": {
    "tags": []
   },
   "outputs": [],
   "source": [
    "class Circle(shape):\n",
    "    def __init__(self,colour,border_widh,Radious):\n",
    "        super().__init__(colour,border_widh)\n",
    "        self.Radious=Radious\n",
    "        \n",
    "    def display(self):\n",
    "        print(f'The colour , border_widh , radious of circle is {self.colour} , {self.border_widh} , {self.Radious}')\n",
    "        "
   ]
  },
  {
   "cell_type": "code",
   "execution_count": null,
   "id": "ae0dc544-e78f-454a-94dd-5f59e17d9fc3",
   "metadata": {
    "tags": []
   },
   "outputs": [],
   "source": [
    "Circle=Circle(\"RED\",\"23CM\",\"40CM\")"
   ]
  },
  {
   "cell_type": "code",
   "execution_count": null,
   "id": "c7a51165-7992-41d6-bab3-4f850d0bf649",
   "metadata": {
    "tags": []
   },
   "outputs": [],
   "source": [
    "Circle.display()"
   ]
  },
  {
   "cell_type": "code",
   "execution_count": null,
   "id": "d648cc32-4039-4849-8c1b-7b09e8516053",
   "metadata": {
    "tags": []
   },
   "outputs": [],
   "source": [
    "Rectangle=Rectangle(\"Blue\",\"23CM\",\"40CM\",\"60CM\")"
   ]
  },
  {
   "cell_type": "code",
   "execution_count": null,
   "id": "b93dce06-fc25-423d-aad5-4190b3bb73cf",
   "metadata": {
    "tags": []
   },
   "outputs": [],
   "source": [
    "Rectangle.display()"
   ]
  },
  {
   "cell_type": "code",
   "execution_count": null,
   "id": "9749ff79-ece9-41af-b347-23f41400b30d",
   "metadata": {
    "tags": []
   },
   "outputs": [],
   "source": [
    "#9 Device class attribute\n",
    "class device:\n",
    "    def __init__(self,brand,model):\n",
    "        self.brand=brand\n",
    "        self.model=model\n",
    "   \n",
    "        "
   ]
  },
  {
   "cell_type": "code",
   "execution_count": null,
   "id": "44ebb44d-8307-48ac-9cfa-b3374a96ecb6",
   "metadata": {
    "tags": []
   },
   "outputs": [],
   "source": [
    "class Phone(device):\n",
    "    def __init__(self,brand,model,screen_size):\n",
    "        super().__init__(brand,model)\n",
    "        self.screen_size=screen_size\n",
    "    def display(self):\n",
    "        print(f'The Brand,model,screen_size of mobile phone is {self.brand},{self.model},{self.screen_size}')\n",
    "        \n",
    "    \n",
    "        \n",
    "        "
   ]
  },
  {
   "cell_type": "code",
   "execution_count": null,
   "id": "5ea43aa9-3a47-42b6-809e-068d5647ba15",
   "metadata": {},
   "outputs": [],
   "source": [
    "class Tablet(device):\n",
    "    def __init__(self,brand,model,battery_capacity):\n",
    "        super().__init__(brand,model)\n",
    "        self.battery_capacity=battery_capacity\n",
    "    def display(self):\n",
    "         print(f'The Brand,model,screen_size of mobile phone is {self.brand},{self.model},{self.battery_capacity}')\n",
    "        \n",
    "        \n"
   ]
  },
  {
   "cell_type": "code",
   "execution_count": null,
   "id": "a7ffb954-3a63-488a-8025-acc952f372f5",
   "metadata": {
    "tags": []
   },
   "outputs": [],
   "source": [
    "phone=Phone(\"samsung\",\"galaxy\",\"16inch\")\n",
    "phone.display()"
   ]
  },
  {
   "cell_type": "code",
   "execution_count": null,
   "id": "e107a499-3fec-4d42-8862-7d0a304f8d13",
   "metadata": {
    "tags": []
   },
   "outputs": [],
   "source": [
    "Tablet=Tablet(\"samsung\",\"tablet\",\"4000MH\")\n",
    "Tablet.display()"
   ]
  },
  {
   "cell_type": "code",
   "execution_count": 6,
   "id": "f996c2f2-e8fe-4150-969a-13427fd887fa",
   "metadata": {},
   "outputs": [],
   "source": [
    "#10 bank_acccout inherantance\n",
    "class Bank_account:\n",
    "    def __init__(self,account_number,balance):\n",
    "        self.account_number=account_number\n",
    "        self.balance=balance\n",
    "        \n",
    "        \n",
    "    \n",
    "    "
   ]
  },
  {
   "cell_type": "code",
   "execution_count": 7,
   "id": "97e71ce0-0208-4e96-87b3-68574b76004c",
   "metadata": {
    "tags": []
   },
   "outputs": [],
   "source": [
    "class saving_account(Bank_account):\n",
    "    def __init__(self,account_number,balance):\n",
    "        super().__init__(account_number,balance)\n",
    "        \n",
    "        \n",
    "    def Calculate_intrest(self,intrest):\n",
    "        self.balance=self.balance+self.balance*intrest/100\n",
    "        print(f\"The avalible balance with intrest is {self.balance}\")\n",
    "        \n",
    "        \n",
    "        \n",
    "        "
   ]
  },
  {
   "cell_type": "code",
   "execution_count": 8,
   "id": "ebdbd427-a254-48e7-87b9-b10b1b6a1a35",
   "metadata": {
    "tags": []
   },
   "outputs": [],
   "source": [
    "account=saving_account(\"@12344\",20000)"
   ]
  },
  {
   "cell_type": "code",
   "execution_count": 9,
   "id": "f5bd3b08-9158-45d0-8db4-5a935fd4c8d9",
   "metadata": {
    "tags": []
   },
   "outputs": [
    {
     "name": "stdout",
     "output_type": "stream",
     "text": [
      "The avalible balance with intrest is 22400.0\n"
     ]
    }
   ],
   "source": [
    "account.Calculate_intrest(12)"
   ]
  },
  {
   "cell_type": "code",
   "execution_count": 19,
   "id": "39143ba0-f99c-4bf4-a470-a927eec6971c",
   "metadata": {
    "tags": []
   },
   "outputs": [],
   "source": [
    "class checking_account(Bank_account):\n",
    "    def __init__(self,account_number,balance):   \n",
    "        super().__init__(account_number,balance)\n",
    "        \n",
    "    def deduce_fee(self,amount):\n",
    "            self.balance=self.balance-amount\n",
    "            print(f\"The deducted amount {self.balance}\")\n",
    "        "
   ]
  },
  {
   "cell_type": "code",
   "execution_count": 20,
   "id": "604554b4-3779-4b02-aaa4-f2c40f0fe6c7",
   "metadata": {
    "tags": []
   },
   "outputs": [],
   "source": [
    "account1=checking_account(\"@123\",20000)"
   ]
  },
  {
   "cell_type": "code",
   "execution_count": 21,
   "id": "f2bb3a35-7c1f-4b7e-9473-dcf8fee46f2c",
   "metadata": {
    "tags": []
   },
   "outputs": [
    {
     "name": "stdout",
     "output_type": "stream",
     "text": [
      "The deducted amount 17700\n"
     ]
    }
   ],
   "source": [
    "account1.deduce_fee(2300)"
   ]
  },
  {
   "cell_type": "code",
   "execution_count": null,
   "id": "08e99ae2-8ec8-44fd-ae46-7aca675ca5bf",
   "metadata": {},
   "outputs": [],
   "source": []
  },
  {
   "cell_type": "code",
   "execution_count": null,
   "id": "79c0da13-91ff-451a-bbc4-fba6d8cca584",
   "metadata": {},
   "outputs": [],
   "source": []
  },
  {
   "cell_type": "code",
   "execution_count": null,
   "id": "65907f5d-342b-4cbd-8c0d-ada36056d26e",
   "metadata": {},
   "outputs": [],
   "source": []
  }
 ],
 "metadata": {
  "kernelspec": {
   "display_name": "Python 3 (ipykernel)",
   "language": "python",
   "name": "python3"
  },
  "language_info": {
   "codemirror_mode": {
    "name": "ipython",
    "version": 3
   },
   "file_extension": ".py",
   "mimetype": "text/x-python",
   "name": "python",
   "nbconvert_exporter": "python",
   "pygments_lexer": "ipython3",
   "version": "3.11.5"
  }
 },
 "nbformat": 4,
 "nbformat_minor": 5
}
